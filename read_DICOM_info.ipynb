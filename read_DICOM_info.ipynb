{
 "cells": [
  {
   "cell_type": "code",
   "execution_count": null,
   "id": "b0251b86",
   "metadata": {},
   "outputs": [],
   "source": [
    "import pydicom\n",
    "import os\n",
    "import pandas as pd\n",
    "from tqdm import tqdm"
   ]
  },
  {
   "cell_type": "code",
   "execution_count": null,
   "id": "bda6eb10",
   "metadata": {},
   "outputs": [],
   "source": [
    "#CHANGE PATH TO FOLDER\n",
    "folder_path = '/media/user/Elements/Batch_4'"
   ]
  },
  {
   "cell_type": "code",
   "execution_count": null,
   "id": "d3bb7484",
   "metadata": {},
   "outputs": [],
   "source": [
    "ad = []\n",
    "manufacturer = []\n",
    "model_name = []\n",
    "st = []\n",
    "xtc=[]\n",
    "\n",
    "for root, folder, file in os.walk(folder_path):\n",
    "        \n",
    "        try:\n",
    "        \n",
    "            for f in file:\n",
    "\n",
    "                if f.endswith('.dcm') and len(manufacturer) < 100000:\n",
    "\n",
    "                    f = os.path.join(root, f)\n",
    "\n",
    "                    ad.append(pydicom.dcmread(f).AcquisitionDate)\n",
    "                    manufacturer.append(pydicom.dcmread(f).Manufacturer)\n",
    "                    model_name.append(pydicom.dcmread(f).ManufacturerModelName)\n",
    "                    st.append(pydicom.dcmread(f).SliceThickness)\n",
    "                    xtc.append(pydicom.dcmread(f).XRayTubeCurrent)\n",
    "\n",
    "                    print(len(manufacturer))\n",
    "                \n",
    "        except:\n",
    "            continue"
   ]
  },
  {
   "cell_type": "code",
   "execution_count": null,
   "id": "8ce3992b",
   "metadata": {},
   "outputs": [],
   "source": [
    "df = pd.DataFrame(list(zip(ad, manufacturer, model_name, st, xtc)),\n",
    "                  columns =['Acquisition Date', \n",
    "                            'Manufacturer Name', \n",
    "                            'Model Name', \n",
    "                            'Slice Thickness', 'X-Ray Tube Current'])"
   ]
  },
  {
   "cell_type": "code",
   "execution_count": null,
   "id": "89f8bbbf",
   "metadata": {},
   "outputs": [],
   "source": [
    "#CHANGE LOCATION OF RESULTANT FILE \n",
    "df.to_csv('/home/user/Downloads/client_78/docs/output/rdi_output.csv')"
   ]
  },
  {
   "cell_type": "code",
   "execution_count": null,
   "id": "1a1135e4",
   "metadata": {},
   "outputs": [],
   "source": []
  }
 ],
 "metadata": {
  "kernelspec": {
   "display_name": "Python 3",
   "language": "python",
   "name": "python3"
  },
  "language_info": {
   "codemirror_mode": {
    "name": "ipython",
    "version": 3
   },
   "file_extension": ".py",
   "mimetype": "text/x-python",
   "name": "python",
   "nbconvert_exporter": "python",
   "pygments_lexer": "ipython3",
   "version": "3.8.5"
  }
 },
 "nbformat": 4,
 "nbformat_minor": 5
}
